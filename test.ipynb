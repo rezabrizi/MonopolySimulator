{
 "cells": [
  {
   "cell_type": "code",
   "execution_count": 1,
   "metadata": {},
   "outputs": [],
   "source": [
    "from sim import * "
   ]
  },
  {
   "cell_type": "code",
   "execution_count": 2,
   "metadata": {},
   "outputs": [
    {
     "ename": "KeyboardInterrupt",
     "evalue": "",
     "output_type": "error",
     "traceback": [
      "\u001b[0;31m---------------------------------------------------------------------------\u001b[0m",
      "\u001b[0;31mKeyboardInterrupt\u001b[0m                         Traceback (most recent call last)",
      "Cell \u001b[0;32mIn[2], line 2\u001b[0m\n\u001b[1;32m      1\u001b[0m mc \u001b[38;5;241m=\u001b[39m MonteCarloSimulation(\u001b[38;5;241m1\u001b[39m)\n\u001b[0;32m----> 2\u001b[0m \u001b[43mmc\u001b[49m\u001b[38;5;241;43m.\u001b[39;49m\u001b[43mrun\u001b[49m\u001b[43m(\u001b[49m\u001b[43m)\u001b[49m\n",
      "File \u001b[0;32m~/dev/Repos/monopolySim/sim.py:1251\u001b[0m, in \u001b[0;36mMonteCarloSimulation.run\u001b[0;34m(self)\u001b[0m\n\u001b[1;32m   1248\u001b[0m game \u001b[38;5;241m=\u001b[39m Game(\u001b[38;5;241m*\u001b[39mplayers)\n\u001b[1;32m   1250\u001b[0m \u001b[38;5;66;03m# Simulate the game and retrieve the winner\u001b[39;00m\n\u001b[0;32m-> 1251\u001b[0m winner \u001b[38;5;241m=\u001b[39m \u001b[43mgame\u001b[49m\u001b[38;5;241;43m.\u001b[39;49m\u001b[43msimulate_game\u001b[49m\u001b[43m(\u001b[49m\u001b[43m)\u001b[49m\n\u001b[1;32m   1252\u001b[0m \u001b[38;5;28mprint\u001b[39m(\u001b[38;5;124m\"\u001b[39m\u001b[38;5;124mGame is done!\u001b[39m\u001b[38;5;124m\"\u001b[39m)\n\u001b[1;32m   1254\u001b[0m \u001b[38;5;66;03m# Tally the wins\u001b[39;00m\n",
      "File \u001b[0;32m~/dev/Repos/monopolySim/sim.py:1182\u001b[0m, in \u001b[0;36mGame.simulate_game\u001b[0;34m(self)\u001b[0m\n\u001b[1;32m   1180\u001b[0m winner \u001b[38;5;241m=\u001b[39m \u001b[38;5;28;01mNone\u001b[39;00m\n\u001b[1;32m   1181\u001b[0m \u001b[38;5;28;01mwhile\u001b[39;00m \u001b[38;5;129;01mnot\u001b[39;00m winner:\n\u001b[0;32m-> 1182\u001b[0m     \u001b[38;5;28;43mself\u001b[39;49m\u001b[38;5;241;43m.\u001b[39;49m\u001b[43mplay_turn\u001b[49m\u001b[43m(\u001b[49m\u001b[43m)\u001b[49m\n\u001b[1;32m   1183\u001b[0m     winner \u001b[38;5;241m=\u001b[39m \u001b[38;5;28mself\u001b[39m\u001b[38;5;241m.\u001b[39mcheck_win_condition()\n\u001b[1;32m   1184\u001b[0m \u001b[38;5;28;01mreturn\u001b[39;00m winner\n",
      "File \u001b[0;32m~/dev/Repos/monopolySim/sim.py:979\u001b[0m, in \u001b[0;36mGame.play_turn\u001b[0;34m(self)\u001b[0m\n\u001b[1;32m    977\u001b[0m \u001b[38;5;28;01mif\u001b[39;00m player\u001b[38;5;241m.\u001b[39mis_in_game:\n\u001b[1;32m    978\u001b[0m     player\u001b[38;5;241m.\u001b[39munmortgage_properties()\n\u001b[0;32m--> 979\u001b[0m     \u001b[43mplayer\u001b[49m\u001b[38;5;241;43m.\u001b[39;49m\u001b[43mbuy_houses_and_hotels\u001b[49m\u001b[43m(\u001b[49m\u001b[43m)\u001b[49m\n\u001b[1;32m    980\u001b[0m \u001b[38;5;28;01mreturn\u001b[39;00m logs\n",
      "File \u001b[0;32m~/dev/Repos/monopolySim/sim.py:611\u001b[0m, in \u001b[0;36mPlayer.buy_houses_and_hotels\u001b[0;34m(self, priority)\u001b[0m\n\u001b[1;32m    608\u001b[0m \u001b[38;5;28;01mfrom\u001b[39;00m \u001b[38;5;21;01mrandom\u001b[39;00m \u001b[38;5;28;01mimport\u001b[39;00m shuffle\n\u001b[1;32m    610\u001b[0m \u001b[38;5;66;03m# Get all completed sets that can still be expanded (not maxed out)\u001b[39;00m\n\u001b[0;32m--> 611\u001b[0m completed_sets \u001b[38;5;241m=\u001b[39m \u001b[38;5;28;43mself\u001b[39;49m\u001b[38;5;241;43m.\u001b[39;49m\u001b[43mget_valid_expandable_sets\u001b[49m\u001b[43m(\u001b[49m\u001b[43m)\u001b[49m\n\u001b[1;32m    613\u001b[0m \u001b[38;5;28;01mdef\u001b[39;00m \u001b[38;5;21mget_groups_based_on_random\u001b[39m():\n\u001b[1;32m    614\u001b[0m     groups \u001b[38;5;241m=\u001b[39m \u001b[38;5;28mlist\u001b[39m(completed_sets\u001b[38;5;241m.\u001b[39mkeys())\n",
      "File \u001b[0;32m~/dev/Repos/monopolySim/sim.py:594\u001b[0m, in \u001b[0;36mPlayer.get_valid_expandable_sets\u001b[0;34m(self)\u001b[0m\n\u001b[1;32m    591\u001b[0m sets: Dict[\u001b[38;5;28mstr\u001b[39m, List[Street]] \u001b[38;5;241m=\u001b[39m {}\n\u001b[1;32m    592\u001b[0m \u001b[38;5;28;01mfor\u001b[39;00m group, properties \u001b[38;5;129;01min\u001b[39;00m \u001b[38;5;28mself\u001b[39m\u001b[38;5;241m.\u001b[39mstreets\u001b[38;5;241m.\u001b[39mitems():\n\u001b[1;32m    593\u001b[0m     \u001b[38;5;28;01mif\u001b[39;00m (\n\u001b[0;32m--> 594\u001b[0m         \u001b[38;5;28mlen\u001b[39m(properties) \u001b[38;5;241m==\u001b[39m \u001b[43mStreet\u001b[49m\u001b[38;5;241;43m.\u001b[39;49m\u001b[43mGROUP_COUNTS\u001b[49m\u001b[43m[\u001b[49m\u001b[43mgroup\u001b[49m\u001b[43m]\u001b[49m\n\u001b[1;32m    595\u001b[0m         \u001b[38;5;129;01mand\u001b[39;00m \u001b[38;5;129;01mnot\u001b[39;00m \u001b[38;5;28mall\u001b[39m(prop\u001b[38;5;241m.\u001b[39mlevel \u001b[38;5;241m==\u001b[39m \u001b[38;5;241m5\u001b[39m \u001b[38;5;28;01mfor\u001b[39;00m prop \u001b[38;5;129;01min\u001b[39;00m properties)\n\u001b[1;32m    596\u001b[0m         \u001b[38;5;129;01mand\u001b[39;00m \u001b[38;5;28mall\u001b[39m(\u001b[38;5;129;01mnot\u001b[39;00m prop\u001b[38;5;241m.\u001b[39mmortgaged \u001b[38;5;28;01mfor\u001b[39;00m prop \u001b[38;5;129;01min\u001b[39;00m properties)\n\u001b[1;32m    597\u001b[0m     ):\n\u001b[1;32m    598\u001b[0m         sets[group] \u001b[38;5;241m=\u001b[39m properties\n\u001b[1;32m    600\u001b[0m \u001b[38;5;28;01mreturn\u001b[39;00m sets\n",
      "File \u001b[0;32m~/miniconda3/lib/python3.12/enum.py:1255\u001b[0m, in \u001b[0;36mEnum.__hash__\u001b[0;34m(self)\u001b[0m\n\u001b[1;32m   1254\u001b[0m \u001b[38;5;28;01mdef\u001b[39;00m \u001b[38;5;21m__hash__\u001b[39m(\u001b[38;5;28mself\u001b[39m):\n\u001b[0;32m-> 1255\u001b[0m     \u001b[38;5;28;01mreturn\u001b[39;00m \u001b[38;5;28;43mhash\u001b[39;49m\u001b[43m(\u001b[49m\u001b[38;5;28;43mself\u001b[39;49m\u001b[38;5;241;43m.\u001b[39;49m\u001b[43m_name_\u001b[49m\u001b[43m)\u001b[49m\n",
      "\u001b[0;31mKeyboardInterrupt\u001b[0m: "
     ]
    }
   ],
   "source": [
    "mc = MonteCarloSimulation(1)\n",
    "mc.run()"
   ]
  },
  {
   "cell_type": "code",
   "execution_count": 2,
   "metadata": {},
   "outputs": [],
   "source": [
    "a = Player(\"Bob\", 0.6, 0.8, 0.7, 0.4, 0.6, 200, 300)\n",
    "s = Street(\n",
    "                name=\"Pacific Avenue\",\n",
    "                group=StreetGroups.GREEN,\n",
    "                price=300,\n",
    "                rent=[26, 52, 130, 390, 900, 1275],\n",
    "                house_price=200,\n",
    "                number=32,\n",
    "            )"
   ]
  },
  {
   "cell_type": "code",
   "execution_count": 3,
   "metadata": {},
   "outputs": [],
   "source": [
    "a.buy_property(s)"
   ]
  },
  {
   "cell_type": "code",
   "execution_count": 4,
   "metadata": {},
   "outputs": [],
   "source": [
    "a.raise_fund(1300)"
   ]
  },
  {
   "cell_type": "code",
   "execution_count": 5,
   "metadata": {},
   "outputs": [],
   "source": [
    "a.unmortgage_properties()"
   ]
  },
  {
   "cell_type": "code",
   "execution_count": 6,
   "metadata": {},
   "outputs": [
    {
     "data": {
      "text/plain": [
       "P('Bob', cash=1185.0, liquidity=1035.0, position=0, is_in_jail=False, jail_roll_attempts=0, streets_owned=1, railroads_owned=0, utilities_owned=0, is_in_game=True)"
      ]
     },
     "execution_count": 6,
     "metadata": {},
     "output_type": "execute_result"
    }
   ],
   "source": [
    "a"
   ]
  },
  {
   "cell_type": "code",
   "execution_count": 7,
   "metadata": {},
   "outputs": [],
   "source": [
    "a.raise_fund(1300)"
   ]
  },
  {
   "cell_type": "code",
   "execution_count": 8,
   "metadata": {},
   "outputs": [
    {
     "data": {
      "text/plain": [
       "P('Bob', cash=1335.0, liquidity=885.0, position=0, is_in_jail=False, jail_roll_attempts=0, streets_owned=1, railroads_owned=0, utilities_owned=0, is_in_game=True)"
      ]
     },
     "execution_count": 8,
     "metadata": {},
     "output_type": "execute_result"
    }
   ],
   "source": [
    "a"
   ]
  },
  {
   "cell_type": "code",
   "execution_count": 9,
   "metadata": {},
   "outputs": [],
   "source": [
    "a.unmortgage_properties()"
   ]
  },
  {
   "cell_type": "code",
   "execution_count": 10,
   "metadata": {},
   "outputs": [
    {
     "data": {
      "text/plain": [
       "P('Bob', cash=1170.0, liquidity=720.0, position=0, is_in_jail=False, jail_roll_attempts=0, streets_owned=1, railroads_owned=0, utilities_owned=0, is_in_game=True)"
      ]
     },
     "execution_count": 10,
     "metadata": {},
     "output_type": "execute_result"
    }
   ],
   "source": [
    "a"
   ]
  },
  {
   "cell_type": "code",
   "execution_count": 11,
   "metadata": {},
   "outputs": [],
   "source": [
    "a.raise_fund(1500)"
   ]
  },
  {
   "cell_type": "code",
   "execution_count": 12,
   "metadata": {},
   "outputs": [
    {
     "data": {
      "text/plain": [
       "P('Bob', cash=1320.0, liquidity=570.0, position=0, is_in_jail=False, jail_roll_attempts=0, streets_owned=1, railroads_owned=0, utilities_owned=0, is_in_game=True)"
      ]
     },
     "execution_count": 12,
     "metadata": {},
     "output_type": "execute_result"
    }
   ],
   "source": [
    "a"
   ]
  },
  {
   "cell_type": "code",
   "execution_count": 13,
   "metadata": {},
   "outputs": [],
   "source": [
    "a.unmortgage_properties()"
   ]
  },
  {
   "cell_type": "code",
   "execution_count": 14,
   "metadata": {},
   "outputs": [
    {
     "data": {
      "text/plain": [
       "P('Bob', cash=1155.0, liquidity=405.0, position=0, is_in_jail=False, jail_roll_attempts=0, streets_owned=1, railroads_owned=0, utilities_owned=0, is_in_game=True)"
      ]
     },
     "execution_count": 14,
     "metadata": {},
     "output_type": "execute_result"
    }
   ],
   "source": [
    "a"
   ]
  },
  {
   "cell_type": "code",
   "execution_count": null,
   "metadata": {},
   "outputs": [],
   "source": []
  }
 ],
 "metadata": {
  "kernelspec": {
   "display_name": "base",
   "language": "python",
   "name": "python3"
  },
  "language_info": {
   "codemirror_mode": {
    "name": "ipython",
    "version": 3
   },
   "file_extension": ".py",
   "mimetype": "text/x-python",
   "name": "python",
   "nbconvert_exporter": "python",
   "pygments_lexer": "ipython3",
   "version": "3.12.2"
  }
 },
 "nbformat": 4,
 "nbformat_minor": 2
}
